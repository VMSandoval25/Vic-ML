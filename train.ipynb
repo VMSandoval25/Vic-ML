{
 "cells": [
  {
   "cell_type": "code",
   "execution_count": null,
   "metadata": {},
   "outputs": [],
   "source": [
    "import sys\n",
    "sys.path.append('/Users/victorsandoval/personal/code')\n",
    "from model import ArtNet\n",
    "from datasetLoader import DatasetLoader\n",
    "from trainer import Trainer"
   ]
  },
  {
   "cell_type": "code",
   "execution_count": null,
   "metadata": {},
   "outputs": [],
   "source": [
    "data_root = '/Users/victorsandoval/personal/dataset/artbench-10-imagefolder-split'\n",
    "batch = 256\n",
    "image_size=(224,224)\n",
    "val_split=0.1\n",
    "dataset = DatasetLoader(data_root, batch, image_size, val_split, 2)"
   ]
  },
  {
   "cell_type": "code",
   "execution_count": null,
   "metadata": {},
   "outputs": [],
   "source": [
    "model = ArtNet(10)\n"
   ]
  },
  {
   "cell_type": "code",
   "execution_count": null,
   "metadata": {},
   "outputs": [],
   "source": [
    "save_path = '/Users/victorsandoval/personal/code/'\n",
    "train = Trainer(model, dataset.load_data(), save_path, 0.0001)"
   ]
  },
  {
   "cell_type": "code",
   "execution_count": null,
   "metadata": {},
   "outputs": [],
   "source": [
    "train.train(500)"
   ]
  }
 ],
 "metadata": {
  "kernelspec": {
   "display_name": "theia-poc",
   "language": "python",
   "name": "python3"
  },
  "language_info": {
   "codemirror_mode": {
    "name": "ipython",
    "version": 3
   },
   "file_extension": ".py",
   "mimetype": "text/x-python",
   "name": "python",
   "nbconvert_exporter": "python",
   "pygments_lexer": "ipython3",
   "version": "3.11.5"
  }
 },
 "nbformat": 4,
 "nbformat_minor": 2
}
